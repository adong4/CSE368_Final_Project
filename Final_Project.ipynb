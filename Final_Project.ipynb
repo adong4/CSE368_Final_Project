{
 "cells": [
  {
   "cell_type": "markdown",
   "source": [
    "# Final Assignment CSE 368\n",
    "prwilkin, adong4, duncenzh"
   ],
   "metadata": {
    "collapsed": false
   }
  },
  {
   "cell_type": "markdown",
   "source": [
    "**Citations:**\n",
    "---\n",
    "Environment 1: \n",
    "> Dataset is curated/modified; US Department of Transportation Federal Highway Administration Route Log and Finder List “Table 4: Major Cities Served by Interstate Routes (2010 Census Populations greater than 50,000)”,\n",
    "\n",
    "> NetworkX library; Aric A. Hagberg, Daniel A. Schult and Pieter J. Swart, “Exploring network structure, dynamics, and function using NetworkX”, in Proceedings of the 7th Python in Science Conference (SciPy2008), Gäel Varoquaux, Travis Vaught, and Jarrod Millman (Eds), (Pasadena, CA USA), pp. 11–15, Aug 2008,\n",
    "\n",
    "> Pandas library; McKinney, W., & others. (2010). Data structures for statistical computing in python. In Proceedings of the 9th Python in Science Conference (Vol. 445, pp. 51–56),\n",
    "\n",
    "Environment 2:\n",
    "> Numpy library; Harris, C.R., Millman, K.J., van der Walt, S.J. et al. Array programming with NumPy. Nature 585, 357–362 (2020). DOI: 10.1038/s41586-020-2649-2,\n",
    "\n",
    "> Classes State, Node, & Problem modified; fall23 cse368 assignment 1 base code provided by Professor Alina Vereshchaka and TA’s"
   ],
   "metadata": {
    "collapsed": false
   }
  },
  {
   "cell_type": "markdown",
   "source": [
    "# Environment 1"
   ],
   "metadata": {
    "collapsed": false
   }
  },
  {
   "cell_type": "code",
   "execution_count": null,
   "outputs": [],
   "source": [
    "import pandas as pd\n",
    "import networkx as nx\n",
    "\n",
    "\n",
    "def generate(datafile, graph):\n",
    "    for index, row in datafile.iterrows():  \n",
    "        # Node will be named after 'city, state'\n",
    "        node_name = f\"{row['city']}, {row['state']}\"\n",
    "        # Parse lists\n",
    "        connected_cities = row['connected cities'].split(',')\n",
    "        connected_states = row['connected cities states'].split(',')\n",
    "        distances = [int(dist) for dist in row['distance to city'].split(',')]\n",
    "\n",
    "        # Add the current city if not already in graph or update with lat, long, & interstates\n",
    "        graph.add_node(node_name, lat=row['lat'], long=row['long'], interstates=row['interstates'])\n",
    "\n",
    "        # Add edges\n",
    "        for i, (connected_city, connected_state) in enumerate(zip(connected_cities, connected_states)):\n",
    "            connected_city_state = f\"{connected_city.strip()}, {connected_state.strip()}\"\n",
    "            if connected_city_state not in graph:\n",
    "                graph.add_node(connected_city_state)\n",
    "            # Distance is cost\n",
    "            graph.add_edge(node_name, connected_city_state, distance=distances[i])\n",
    "\n",
    "\n",
    "# visual code goes here"
   ],
   "metadata": {
    "collapsed": false
   }
  },
  {
   "cell_type": "code",
   "execution_count": null,
   "outputs": [],
   "source": [
    "from queue import PriorityQueue\n",
    "\n",
    "# Load dataset\n",
    "file = './data.xlsx'\n",
    "data = pd.read_excel(file)\n",
    "\n",
    "# Initialize graph\n",
    "G = nx.Graph()\n",
    "\n",
    "def bfs(start_city, end_city):\n",
    "    counter = 0\n",
    "    queue = []\n",
    "    visited = []\n",
    "    route = []\n",
    "    previous_cities = []\n",
    "\n",
    "    queue.append(start_city)\n",
    "\n",
    "    while queue:\n",
    "        current_city = queue.pop(0)\n",
    "        visited.append(current_city)\n",
    "        counter += 1\n",
    "\n",
    "        if current_city == end_city:\n",
    "            route.append(end_city)\n",
    "            # route creating\n",
    "            city = end_city\n",
    "            for i in range(counter):  # amount of times loopings needed to be done (not too sure if needed)\n",
    "                for cities in previous_cities:  # loops through list of city to check\n",
    "                    if city == cities[0]:  # matches the city to find the previous city\n",
    "                        route.append(cities[1])  # adds previous city to the route\n",
    "                        city = cities[1]  # updates the city to backtrack\n",
    "            # route.reverse()\n",
    "            # print(route)\n",
    "            # print(counter)\n",
    "            return route\n",
    "\n",
    "        for connected_cities in G.edges(current_city):\n",
    "            if connected_cities[1] not in visited:\n",
    "                queue.append(connected_cities[1])\n",
    "                previous_cities.append([connected_cities[1], current_city])  # to help backtrack later on\n",
    "                \n",
    "\n",
    "def A_star(start_city, end_city):\n",
    "    priority_queue = PriorityQueue()\n",
    "    visited = set()\n",
    "    route = []\n",
    "    previous_cities = []\n",
    "    counter = 0\n",
    "    start_node_tuple = (0, start_city)\n",
    "\n",
    "    list_of_connected_cities_and_distance = []\n",
    "    for edge in G.edges.data():\n",
    "        list_of_connected_cities_and_distance.append(list([edge[0], edge[1], int(edge[2]['distance'])]))\n",
    "\n",
    "    priority_queue.put(start_node_tuple)\n",
    "\n",
    "    while priority_queue:\n",
    "        counter += 1\n",
    "        tup = priority_queue.get()\n",
    "        distance, parent_city = tup[0], tup[1]\n",
    "        visited.add(parent_city)\n",
    "        if parent_city == end_city:\n",
    "            route.append(end_city)\n",
    "\n",
    "            # route creating\n",
    "            city = end_city\n",
    "            for i in range(counter):  # amount of times loopings needed to be done (not too sure if needed)\n",
    "                for the_cities in previous_cities:  # loops through list of city to check\n",
    "                    if city == the_cities[1]:  # matches the city to find the previous city\n",
    "                        route.append(the_cities[0])  # adds previous city to the route\n",
    "                        city = the_cities[0]  # updates the city to backtrack\n",
    "            # route.reverse()\n",
    "            # print(route)\n",
    "            # print(distance)\n",
    "            # print(counter)\n",
    "            return route, distance, counter\n",
    "\n",
    "        cities = []\n",
    "        for connected_cities in G.edges(parent_city):\n",
    "            for find_distance in list_of_connected_cities_and_distance:\n",
    "                if connected_cities[0] in find_distance and connected_cities[1] in find_distance:\n",
    "                    distance_of_connected_cities = find_distance[2]\n",
    "            if connected_cities[1] not in visited:\n",
    "                tuple_placeholder = (distance_of_connected_cities + distance, connected_cities[1])\n",
    "                cities.append(tuple_placeholder)\n",
    "                child_tup = tuple_placeholder\n",
    "                priority_queue.put(child_tup)\n",
    "                newcity, newdistance = child_tup[1], child_tup[0]\n",
    "                previous_cities.append((parent_city, newcity))\n"
   ],
   "metadata": {
    "collapsed": false
   }
  },
  {
   "cell_type": "code",
   "execution_count": null,
   "outputs": [],
   "source": [],
   "metadata": {
    "collapsed": false
   }
  }
 ],
 "metadata": {
  "kernelspec": {
   "display_name": "Python 3",
   "language": "python",
   "name": "python3"
  },
  "language_info": {
   "codemirror_mode": {
    "name": "ipython",
    "version": 3
   },
   "file_extension": ".py",
   "mimetype": "text/x-python",
   "name": "python",
   "nbconvert_exporter": "python",
   "pygments_lexer": "ipython3",
   "version": "3.9.7"
  }
 },
 "nbformat": 4,
 "nbformat_minor": 2
}
