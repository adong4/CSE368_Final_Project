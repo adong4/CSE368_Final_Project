{
 "cells": [
  {
   "cell_type": "code",
   "execution_count": 79,
   "metadata": {},
   "outputs": [
    {
     "name": "stdout",
     "output_type": "stream",
     "text": [
      "nodes:  318  | edges:  407\n",
      "Graph with 318 nodes and 407 edges\n",
      "[('Birmingham, AL', 'Anniston, AL'), ('Birmingham, AL', 'Decatur, AL'), ('Birmingham, AL', 'Gadsden, AL'), ('Birmingham, AL', 'Montgomery, AL'), ('Birmingham, AL', 'Tuscaloosa, AL')]\n"
     ]
    }
   ],
   "source": [
    "import pandas as pd\n",
    "import networkx as nx\n",
    "\n",
    "# Load dataset\n",
    "file = './data.xlsx'\n",
    "data = pd.read_excel(file)\n",
    "\n",
    "# Initialize graph\n",
    "G = nx.Graph()\n",
    "\n",
    "\n",
    "def generate(datafile, graph):\n",
    "    for index, row in datafile.iterrows():  \n",
    "        # Node will be named after 'city, state'\n",
    "        node_name = f\"{row['city']}, {row['state']}\"\n",
    "        # Parse lists\n",
    "        connected_cities = row['connected cities'].split(',')\n",
    "        connected_states = row['connected cities states'].split(',')\n",
    "        distances = [int(dist) for dist in row['distance to city'].split(',')]\n",
    "\n",
    "        # Add the current city if not already in graph or update with lat, long, & interstates\n",
    "        graph.add_node(node_name, lat=row['lat'], long=row['long'], interstates=row['interstates'])\n",
    "\n",
    "        # Add edges\n",
    "        for i, (connected_city, connected_state) in enumerate(zip(connected_cities, connected_states)):\n",
    "            connected_city_state = f\"{connected_city.strip()}, {connected_state.strip()}\"\n",
    "            if connected_city_state not in graph:\n",
    "                graph.add_node(connected_city_state)\n",
    "            # Distance is cost\n",
    "            graph.add_edge(node_name, connected_city_state, distance=distances[i])\n",
    "\n",
    "\n",
    "generate(data, G)\n",
    "\n",
    "nodes = G.number_of_nodes()\n",
    "edges = G.number_of_edges()\n",
    "print(\"nodes: \", nodes, \" | edges: \", edges)\n",
    "print(G)\n",
    "print(G.edges(\"Birmingham, AL\"))\n",
    "#for line in nx.generate_adjlist(G):\n",
    "    #print(line)"
   ]
  },
  {
   "cell_type": "code",
   "execution_count": 80,
   "metadata": {},
   "outputs": [
    {
     "name": "stdout",
     "output_type": "stream",
     "text": [
      "['Anniston, AL', 'Atlanta, GA', 'Auburn-Opelika, AL']\n",
      "4\n"
     ]
    },
    {
     "data": {
      "text/plain": [
       "['Anniston, AL', 'Atlanta, GA', 'Auburn-Opelika, AL']"
      ]
     },
     "execution_count": 80,
     "metadata": {},
     "output_type": "execute_result"
    }
   ],
   "source": [
    "def bfs(start_city,end_city):\n",
    "    counter = 0\n",
    "    queue = []\n",
    "    visited = []\n",
    "    route = []\n",
    "    previous_cities = []\n",
    "\n",
    "    queue.append(start_city)\n",
    "    \n",
    "    while queue:\n",
    "        current_city = queue.pop(0)\n",
    "        visited.append(current_city)\n",
    "        counter+=1\n",
    "\n",
    "        if current_city == end_city:\n",
    "            route.append(end_city)\n",
    "            # route creating\n",
    "            city = end_city\n",
    "            for i in range(counter): #amount of times loopings needed to be done (not too sure if needed)\n",
    "                for cities in previous_cities: #loops through list of city to check\n",
    "                    if city == cities[0]: #matches the city to find the previous city\n",
    "                        route.append(cities[1]) #adds previous city to the route\n",
    "                        city = cities[1] #updates the city to backtrack\n",
    "            route.reverse()\n",
    "            print(route)\n",
    "            print(counter)\n",
    "            return route\n",
    "        \n",
    "        for connected_cities in G.edges(current_city):\n",
    "            if connected_cities[1] not in visited:\n",
    "                queue.append(connected_cities[1])\n",
    "                previous_cities.append([connected_cities[1],current_city]) #to help backtrack later on\n",
    "\n",
    "bfs('Anniston, AL', 'Auburn-Opelika, AL')"
   ]
  }
 ],
 "metadata": {
  "kernelspec": {
   "display_name": "Python 3",
   "language": "python",
   "name": "python3"
  },
  "language_info": {
   "codemirror_mode": {
    "name": "ipython",
    "version": 3
   },
   "file_extension": ".py",
   "mimetype": "text/x-python",
   "name": "python",
   "nbconvert_exporter": "python",
   "pygments_lexer": "ipython3",
   "version": "3.11.6"
  }
 },
 "nbformat": 4,
 "nbformat_minor": 2
}
